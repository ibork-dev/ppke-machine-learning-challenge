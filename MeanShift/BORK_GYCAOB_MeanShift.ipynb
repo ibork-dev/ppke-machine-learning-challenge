{
 "cells": [
  {
   "cell_type": "code",
   "execution_count": 1,
   "metadata": {},
   "outputs": [],
   "source": [
    "import pandas as pd\n",
    "from sklearn.experimental import enable_halving_search_cv\n",
    "from sklearn.model_selection import HalvingGridSearchCV, HalvingRandomSearchCV, GridSearchCV, RandomizedSearchCV\n",
    "from sklearn.decomposition import PCA, KernelPCA, FastICA\n",
    "from sklearn.metrics import mean_squared_error, r2_score\n",
    "from sklearn.multiclass import OneVsRestClassifier\n",
    "from sklearn.svm import SVC\n",
    "from sklearn.preprocessing import StandardScaler\n",
    "from sklearn.pipeline import Pipeline\n",
    "from enum import Enum\n",
    "\n",
    "from sklearn.cluster import MeanShift, estimate_bandwidth\n",
    "\n",
    "class DIM_REDUCTION_METHOD(Enum):\n",
    "    PCA = 1\n",
    "    KERNEL_PCA = 2\n",
    "    ICA = 3\n",
    "\n",
    "# Params\n",
    "algo_name = 'MeanShift'\n",
    "\n",
    "# Read\n",
    "X_train = pd.read_csv('../pc_X_train.csv')\n",
    "y_train = pd.read_csv('../pc_y_train.csv')\n",
    "y_train = y_train.iloc[:, -1] # With iloc we extract the labels\n",
    "X_test = pd.read_csv('../pc_X_test.csv')\n",
    "ids = X_test.iloc[:, 0]\n"
   ]
  },
  {
   "cell_type": "code",
   "execution_count": 10,
   "metadata": {},
   "outputs": [
    {
     "name": "stdout",
     "output_type": "stream",
     "text": [
      "1394961122.3179402\n"
     ]
    }
   ],
   "source": [
    "model = MeanShift()\n",
    "\n",
    "bandwidth = estimate_bandwidth(X_train, n_samples=len(X_train))\n",
    "print(bandwidth)\n",
    "y_pred=MeanShift(bandwidth=bandwidth).fit_predict(X_train)"
   ]
  },
  {
   "cell_type": "code",
   "execution_count": 9,
   "metadata": {},
   "outputs": [
    {
     "data": {
      "text/plain": [
       "[0, 1, 2, 3, 4, 5]"
      ]
     },
     "execution_count": 9,
     "metadata": {},
     "output_type": "execute_result"
    }
   ],
   "source": [
    "list(set(y_pred))"
   ]
  }
 ],
 "metadata": {
  "kernelspec": {
   "display_name": "Python 3",
   "language": "python",
   "name": "python3"
  },
  "language_info": {
   "codemirror_mode": {
    "name": "ipython",
    "version": 3
   },
   "file_extension": ".py",
   "mimetype": "text/x-python",
   "name": "python",
   "nbconvert_exporter": "python",
   "pygments_lexer": "ipython3",
   "version": "3.11.5"
  }
 },
 "nbformat": 4,
 "nbformat_minor": 2
}

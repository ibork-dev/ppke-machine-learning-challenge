{
 "cells": [
  {
   "cell_type": "markdown",
   "metadata": {},
   "source": [
    "### Imports"
   ]
  },
  {
   "cell_type": "code",
   "execution_count": 8,
   "metadata": {},
   "outputs": [],
   "source": [
    "# Source: https://www.datacamp.com/tutorial/xgboost-in-python\n",
    "import xgboost as xgb\n",
    "import pandas as pd\n",
    "import numpy as np\n",
    "\n",
    "from sklearn.preprocessing import StandardScaler\n",
    "from sklearn.decomposition import PCA\n",
    "\n",
    "from sklearn.model_selection import GridSearchCV\n",
    "from sklearn.pipeline import Pipeline\n",
    "\n",
    "from sklearn.ensemble import IsolationForest"
   ]
  },
  {
   "cell_type": "markdown",
   "metadata": {},
   "source": [
    "### Read Dataset"
   ]
  },
  {
   "cell_type": "code",
   "execution_count": 9,
   "metadata": {},
   "outputs": [],
   "source": [
    "X_train = pd.read_csv('../pc_X_train.csv')\n",
    "y_train = pd.read_csv('../pc_y_train.csv')\n",
    "y_train = y_train.iloc[:, -1] # With iloc we extract the labels\n",
    "\n",
    "X_test = pd.read_csv('../pc_X_test.csv')\n",
    "ids = X_test.iloc[:, 0]"
   ]
  },
  {
   "cell_type": "code",
   "execution_count": 10,
   "metadata": {},
   "outputs": [
    {
     "data": {
      "text/html": [
       "<style>#sk-container-id-2 {color: black;}#sk-container-id-2 pre{padding: 0;}#sk-container-id-2 div.sk-toggleable {background-color: white;}#sk-container-id-2 label.sk-toggleable__label {cursor: pointer;display: block;width: 100%;margin-bottom: 0;padding: 0.3em;box-sizing: border-box;text-align: center;}#sk-container-id-2 label.sk-toggleable__label-arrow:before {content: \"▸\";float: left;margin-right: 0.25em;color: #696969;}#sk-container-id-2 label.sk-toggleable__label-arrow:hover:before {color: black;}#sk-container-id-2 div.sk-estimator:hover label.sk-toggleable__label-arrow:before {color: black;}#sk-container-id-2 div.sk-toggleable__content {max-height: 0;max-width: 0;overflow: hidden;text-align: left;background-color: #f0f8ff;}#sk-container-id-2 div.sk-toggleable__content pre {margin: 0.2em;color: black;border-radius: 0.25em;background-color: #f0f8ff;}#sk-container-id-2 input.sk-toggleable__control:checked~div.sk-toggleable__content {max-height: 200px;max-width: 100%;overflow: auto;}#sk-container-id-2 input.sk-toggleable__control:checked~label.sk-toggleable__label-arrow:before {content: \"▾\";}#sk-container-id-2 div.sk-estimator input.sk-toggleable__control:checked~label.sk-toggleable__label {background-color: #d4ebff;}#sk-container-id-2 div.sk-label input.sk-toggleable__control:checked~label.sk-toggleable__label {background-color: #d4ebff;}#sk-container-id-2 input.sk-hidden--visually {border: 0;clip: rect(1px 1px 1px 1px);clip: rect(1px, 1px, 1px, 1px);height: 1px;margin: -1px;overflow: hidden;padding: 0;position: absolute;width: 1px;}#sk-container-id-2 div.sk-estimator {font-family: monospace;background-color: #f0f8ff;border: 1px dotted black;border-radius: 0.25em;box-sizing: border-box;margin-bottom: 0.5em;}#sk-container-id-2 div.sk-estimator:hover {background-color: #d4ebff;}#sk-container-id-2 div.sk-parallel-item::after {content: \"\";width: 100%;border-bottom: 1px solid gray;flex-grow: 1;}#sk-container-id-2 div.sk-label:hover label.sk-toggleable__label {background-color: #d4ebff;}#sk-container-id-2 div.sk-serial::before {content: \"\";position: absolute;border-left: 1px solid gray;box-sizing: border-box;top: 0;bottom: 0;left: 50%;z-index: 0;}#sk-container-id-2 div.sk-serial {display: flex;flex-direction: column;align-items: center;background-color: white;padding-right: 0.2em;padding-left: 0.2em;position: relative;}#sk-container-id-2 div.sk-item {position: relative;z-index: 1;}#sk-container-id-2 div.sk-parallel {display: flex;align-items: stretch;justify-content: center;background-color: white;position: relative;}#sk-container-id-2 div.sk-item::before, #sk-container-id-2 div.sk-parallel-item::before {content: \"\";position: absolute;border-left: 1px solid gray;box-sizing: border-box;top: 0;bottom: 0;left: 50%;z-index: -1;}#sk-container-id-2 div.sk-parallel-item {display: flex;flex-direction: column;z-index: 1;position: relative;background-color: white;}#sk-container-id-2 div.sk-parallel-item:first-child::after {align-self: flex-end;width: 50%;}#sk-container-id-2 div.sk-parallel-item:last-child::after {align-self: flex-start;width: 50%;}#sk-container-id-2 div.sk-parallel-item:only-child::after {width: 0;}#sk-container-id-2 div.sk-dashed-wrapped {border: 1px dashed gray;margin: 0 0.4em 0.5em 0.4em;box-sizing: border-box;padding-bottom: 0.4em;background-color: white;}#sk-container-id-2 div.sk-label label {font-family: monospace;font-weight: bold;display: inline-block;line-height: 1.2em;}#sk-container-id-2 div.sk-label-container {text-align: center;}#sk-container-id-2 div.sk-container {/* jupyter's `normalize.less` sets `[hidden] { display: none; }` but bootstrap.min.css set `[hidden] { display: none !important; }` so we also need the `!important` here to be able to override the default hidden behavior on the sphinx rendered scikit-learn.org. See: https://github.com/scikit-learn/scikit-learn/issues/21755 */display: inline-block !important;position: relative;}#sk-container-id-2 div.sk-text-repr-fallback {display: none;}</style><div id=\"sk-container-id-2\" class=\"sk-top-container\"><div class=\"sk-text-repr-fallback\"><pre>IsolationForest(contamination=0.2)</pre><b>In a Jupyter environment, please rerun this cell to show the HTML representation or trust the notebook. <br />On GitHub, the HTML representation is unable to render, please try loading this page with nbviewer.org.</b></div><div class=\"sk-container\" hidden><div class=\"sk-item\"><div class=\"sk-estimator sk-toggleable\"><input class=\"sk-toggleable__control sk-hidden--visually\" id=\"sk-estimator-id-2\" type=\"checkbox\" checked><label for=\"sk-estimator-id-2\" class=\"sk-toggleable__label sk-toggleable__label-arrow\">IsolationForest</label><div class=\"sk-toggleable__content\"><pre>IsolationForest(contamination=0.2)</pre></div></div></div></div></div>"
      ],
      "text/plain": [
       "IsolationForest(contamination=0.2)"
      ]
     },
     "execution_count": 10,
     "metadata": {},
     "output_type": "execute_result"
    }
   ],
   "source": [
    "model = IsolationForest(contamination=0.2)  # Adjust contamination parameter if needed\n",
    "model.fit(X_train)"
   ]
  },
  {
   "cell_type": "code",
   "execution_count": 11,
   "metadata": {},
   "outputs": [],
   "source": [
    "outliers = model.predict(X_train)"
   ]
  },
  {
   "cell_type": "code",
   "execution_count": 12,
   "metadata": {},
   "outputs": [
    {
     "data": {
      "text/plain": [
       "array([ 1, -1, -1, ...,  1, -1, -1])"
      ]
     },
     "execution_count": 12,
     "metadata": {},
     "output_type": "execute_result"
    }
   ],
   "source": [
    "outliers"
   ]
  },
  {
   "cell_type": "code",
   "execution_count": 13,
   "metadata": {},
   "outputs": [],
   "source": [
    "\n",
    "outlier_indices = np.where(outliers == -1)[0]"
   ]
  },
  {
   "cell_type": "code",
   "execution_count": 14,
   "metadata": {},
   "outputs": [
    {
     "data": {
      "text/plain": [
       "array([   1,    2,    3,    5,   16,   17,   25,   36,   56,   58,   62,\n",
       "         70,   71,   73,   81,   82,   86,   88,   92,   94,  105,  119,\n",
       "        120,  135,  146,  149,  153,  155,  163,  166,  177,  180,  183,\n",
       "        187,  193,  197,  200,  206,  209,  212,  214,  216,  217,  218,\n",
       "        229,  232,  233,  235,  237,  251,  252,  256,  257,  263,  264,\n",
       "        272,  274,  278,  286,  287,  289,  294,  307,  311,  312,  313,\n",
       "        314,  316,  328,  333,  337,  345,  353,  375,  381,  404,  406,\n",
       "        409,  417,  422,  423,  427,  433,  434,  442,  443,  444,  459,\n",
       "        461,  463,  465,  469,  479,  482,  486,  487,  489,  490,  496,\n",
       "        498,  502,  504,  505,  530,  533,  535,  542,  544,  549,  551,\n",
       "        555,  559,  563,  574,  576,  577,  578,  587,  588,  591,  595,\n",
       "        597,  605,  607,  619,  626,  629,  642,  647,  650,  656,  659,\n",
       "        664,  676,  690,  700,  701,  709,  711,  732,  741,  760,  762,\n",
       "        765,  766,  774,  781,  785,  790,  793,  797,  813,  817,  827,\n",
       "        837,  840,  846,  849,  855,  861,  868,  869,  871,  878,  882,\n",
       "        884,  892,  895,  897,  899,  900,  905,  907,  910,  911,  912,\n",
       "        915,  925,  927,  930,  934,  960,  965,  966, 1001, 1002, 1004,\n",
       "       1011, 1017, 1025, 1030, 1033, 1037, 1042, 1044, 1051, 1063, 1065,\n",
       "       1075, 1082, 1085, 1095, 1098, 1109, 1113, 1116, 1123, 1135, 1139,\n",
       "       1142, 1143, 1144, 1146, 1156, 1160, 1165, 1166, 1168, 1170, 1172,\n",
       "       1173, 1175, 1184, 1190, 1193, 1197, 1200, 1201, 1212, 1213, 1214,\n",
       "       1215, 1217, 1229, 1232, 1233, 1236, 1243, 1256, 1257, 1266, 1273,\n",
       "       1274, 1280, 1282, 1285, 1286, 1298, 1311, 1313, 1331, 1345, 1347,\n",
       "       1348, 1349, 1351, 1354, 1355, 1362, 1364, 1366, 1367, 1368, 1378,\n",
       "       1379, 1381, 1385, 1391, 1401, 1407, 1408, 1410, 1412, 1419, 1423,\n",
       "       1429, 1435, 1436, 1437, 1438, 1441, 1442, 1447, 1450, 1454, 1455,\n",
       "       1461, 1465, 1467, 1478, 1480, 1482, 1484, 1509, 1510, 1523, 1525,\n",
       "       1526, 1534, 1536, 1538, 1540, 1544, 1550, 1555, 1559, 1560, 1566,\n",
       "       1571, 1578, 1579, 1585, 1590, 1591, 1593, 1596, 1600, 1601, 1629,\n",
       "       1636, 1642, 1645, 1649, 1653, 1657, 1666, 1673, 1681, 1686, 1694,\n",
       "       1701, 1703, 1706, 1711, 1716, 1724, 1731, 1732, 1733, 1734, 1737,\n",
       "       1738, 1741, 1746, 1750, 1756, 1761, 1765, 1770, 1773, 1779, 1780,\n",
       "       1797, 1809, 1811, 1812, 1815, 1816, 1817, 1822, 1829, 1830, 1831,\n",
       "       1833, 1844, 1848, 1849, 1865, 1874, 1877, 1879, 1880, 1881, 1883,\n",
       "       1891, 1893, 1897, 1901, 1914, 1920, 1923, 1926, 1939, 1943, 1947,\n",
       "       1953, 1954, 1957, 1958, 1960, 1964, 1971, 1972, 1974, 1975])"
      ]
     },
     "execution_count": 14,
     "metadata": {},
     "output_type": "execute_result"
    }
   ],
   "source": [
    "outlier_indices"
   ]
  },
  {
   "cell_type": "code",
   "execution_count": 15,
   "metadata": {},
   "outputs": [],
   "source": [
    "X_train = X_train[outliers != -1]\n",
    "y_train = y_train[outliers != -1]"
   ]
  },
  {
   "cell_type": "code",
   "execution_count": 27,
   "metadata": {},
   "outputs": [
    {
     "data": {
      "text/plain": [
       "1581"
      ]
     },
     "execution_count": 27,
     "metadata": {},
     "output_type": "execute_result"
    }
   ],
   "source": [
    "len(X_train)"
   ]
  },
  {
   "cell_type": "markdown",
   "metadata": {},
   "source": [
    "### Scale Data"
   ]
  },
  {
   "cell_type": "code",
   "execution_count": 16,
   "metadata": {},
   "outputs": [],
   "source": [
    "scaler = StandardScaler()\n",
    "#X_train = scaler.fit_transform(X_train)\n",
    "#X_test = scaler.transform(X_test)"
   ]
  },
  {
   "cell_type": "markdown",
   "metadata": {},
   "source": [
    "### Dimensionality Reduction"
   ]
  },
  {
   "cell_type": "code",
   "execution_count": 17,
   "metadata": {},
   "outputs": [],
   "source": [
    "dim_reduction = PCA(random_state=42)\n",
    "#X_train = dim_reduction.fit_transform(X_train)\n",
    "#X_test = dim_reduction.transform(X_test)"
   ]
  },
  {
   "cell_type": "code",
   "execution_count": 18,
   "metadata": {},
   "outputs": [],
   "source": [
    "model = xgb.XGBRegressor()\n",
    "\n",
    "param_grid = {\n",
    "    ###'pca__n_components': [270,280,290,300,310,320,330],\n",
    "    'model__max_depth': [2, 3, 4, 5, 6],\n",
    "    'model__learning_rate': [0.0001],\n",
    "    'model__n_estimators': [4000],\n",
    "    'model__colsample_bytree': [0.3, 0.4, 0.5, 0.6, 0.7]\n",
    "}"
   ]
  },
  {
   "cell_type": "code",
   "execution_count": 19,
   "metadata": {},
   "outputs": [],
   "source": [
    "steps = []\n",
    "steps.append(('scaler', scaler))\n",
    "#steps.append(('pca', dim_reduction))\n",
    "steps.append(('model', model))\n",
    "\n",
    "pipe = Pipeline(steps=steps)"
   ]
  },
  {
   "cell_type": "code",
   "execution_count": 20,
   "metadata": {},
   "outputs": [
    {
     "name": "stdout",
     "output_type": "stream",
     "text": [
      "Fitting 10 folds for each of 25 candidates, totalling 250 fits\n"
     ]
    },
    {
     "name": "stdout",
     "output_type": "stream",
     "text": [
      "[CV] END model__colsample_bytree=0.3, model__learning_rate=0.0001, model__max_depth=2, model__n_estimators=4000; total time=  11.1s\n",
      "[CV] END model__colsample_bytree=0.3, model__learning_rate=0.0001, model__max_depth=2, model__n_estimators=4000; total time=  11.2s\n",
      "[CV] END model__colsample_bytree=0.3, model__learning_rate=0.0001, model__max_depth=2, model__n_estimators=4000; total time=  11.4s\n",
      "[CV] END model__colsample_bytree=0.3, model__learning_rate=0.0001, model__max_depth=2, model__n_estimators=4000; total time=  11.3s\n",
      "[CV] END model__colsample_bytree=0.3, model__learning_rate=0.0001, model__max_depth=2, model__n_estimators=4000; total time=  11.5s\n",
      "[CV] END model__colsample_bytree=0.3, model__learning_rate=0.0001, model__max_depth=2, model__n_estimators=4000; total time=  11.5s\n",
      "[CV] END model__colsample_bytree=0.3, model__learning_rate=0.0001, model__max_depth=2, model__n_estimators=4000; total time=  11.7s\n",
      "[CV] END model__colsample_bytree=0.3, model__learning_rate=0.0001, model__max_depth=2, model__n_estimators=4000; total time=  11.8s\n",
      "[CV] END model__colsample_bytree=0.3, model__learning_rate=0.0001, model__max_depth=2, model__n_estimators=4000; total time=  11.8s\n",
      "[CV] END model__colsample_bytree=0.3, model__learning_rate=0.0001, model__max_depth=2, model__n_estimators=4000; total time=  12.1s\n",
      "[CV] END model__colsample_bytree=0.3, model__learning_rate=0.0001, model__max_depth=3, model__n_estimators=4000; total time=  17.4s\n",
      "[CV] END model__colsample_bytree=0.3, model__learning_rate=0.0001, model__max_depth=3, model__n_estimators=4000; total time=  17.5s\n",
      "[CV] END model__colsample_bytree=0.3, model__learning_rate=0.0001, model__max_depth=3, model__n_estimators=4000; total time=  17.4s\n",
      "[CV] END model__colsample_bytree=0.3, model__learning_rate=0.0001, model__max_depth=3, model__n_estimators=4000; total time=  17.6s\n",
      "[CV] END model__colsample_bytree=0.3, model__learning_rate=0.0001, model__max_depth=3, model__n_estimators=4000; total time=  24.5s\n",
      "[CV] END model__colsample_bytree=0.3, model__learning_rate=0.0001, model__max_depth=3, model__n_estimators=4000; total time=  25.2s\n",
      "[CV] END model__colsample_bytree=0.3, model__learning_rate=0.0001, model__max_depth=3, model__n_estimators=4000; total time=  25.9s\n",
      "[CV] END model__colsample_bytree=0.3, model__learning_rate=0.0001, model__max_depth=3, model__n_estimators=4000; total time=  25.9s\n",
      "[CV] END model__colsample_bytree=0.3, model__learning_rate=0.0001, model__max_depth=3, model__n_estimators=4000; total time=  26.0s\n",
      "[CV] END model__colsample_bytree=0.3, model__learning_rate=0.0001, model__max_depth=3, model__n_estimators=4000; total time=  27.1s\n",
      "[CV] END model__colsample_bytree=0.3, model__learning_rate=0.0001, model__max_depth=4, model__n_estimators=4000; total time=  41.1s\n",
      "[CV] END model__colsample_bytree=0.3, model__learning_rate=0.0001, model__max_depth=4, model__n_estimators=4000; total time=  40.8s\n",
      "[CV] END model__colsample_bytree=0.3, model__learning_rate=0.0001, model__max_depth=4, model__n_estimators=4000; total time=  41.0s\n",
      "[CV] END model__colsample_bytree=0.3, model__learning_rate=0.0001, model__max_depth=4, model__n_estimators=4000; total time=  41.2s\n",
      "[CV] END model__colsample_bytree=0.3, model__learning_rate=0.0001, model__max_depth=4, model__n_estimators=4000; total time=  41.2s\n",
      "[CV] END model__colsample_bytree=0.3, model__learning_rate=0.0001, model__max_depth=4, model__n_estimators=4000; total time=  40.4s\n",
      "[CV] END model__colsample_bytree=0.3, model__learning_rate=0.0001, model__max_depth=4, model__n_estimators=4000; total time=  40.8s\n",
      "[CV] END model__colsample_bytree=0.3, model__learning_rate=0.0001, model__max_depth=4, model__n_estimators=4000; total time=  41.4s\n",
      "[CV] END model__colsample_bytree=0.3, model__learning_rate=0.0001, model__max_depth=4, model__n_estimators=4000; total time=  41.8s\n",
      "[CV] END model__colsample_bytree=0.3, model__learning_rate=0.0001, model__max_depth=4, model__n_estimators=4000; total time=  41.4s\n",
      "[CV] END model__colsample_bytree=0.3, model__learning_rate=0.0001, model__max_depth=5, model__n_estimators=4000; total time= 1.2min\n",
      "[CV] END model__colsample_bytree=0.3, model__learning_rate=0.0001, model__max_depth=5, model__n_estimators=4000; total time= 1.2min\n",
      "[CV] END model__colsample_bytree=0.3, model__learning_rate=0.0001, model__max_depth=5, model__n_estimators=4000; total time= 1.2min\n",
      "[CV] END model__colsample_bytree=0.3, model__learning_rate=0.0001, model__max_depth=5, model__n_estimators=4000; total time= 1.2min\n",
      "[CV] END model__colsample_bytree=0.3, model__learning_rate=0.0001, model__max_depth=5, model__n_estimators=4000; total time= 1.2min\n",
      "[CV] END model__colsample_bytree=0.3, model__learning_rate=0.0001, model__max_depth=5, model__n_estimators=4000; total time= 1.2min\n",
      "[CV] END model__colsample_bytree=0.3, model__learning_rate=0.0001, model__max_depth=5, model__n_estimators=4000; total time= 1.2min\n",
      "[CV] END model__colsample_bytree=0.3, model__learning_rate=0.0001, model__max_depth=5, model__n_estimators=4000; total time= 1.2min\n",
      "[CV] END model__colsample_bytree=0.3, model__learning_rate=0.0001, model__max_depth=5, model__n_estimators=4000; total time= 1.2min\n",
      "[CV] END model__colsample_bytree=0.3, model__learning_rate=0.0001, model__max_depth=5, model__n_estimators=4000; total time= 1.2min\n",
      "[CV] END model__colsample_bytree=0.3, model__learning_rate=0.0001, model__max_depth=6, model__n_estimators=4000; total time= 2.1min\n",
      "[CV] END model__colsample_bytree=0.3, model__learning_rate=0.0001, model__max_depth=6, model__n_estimators=4000; total time= 2.1min\n",
      "[CV] END model__colsample_bytree=0.3, model__learning_rate=0.0001, model__max_depth=6, model__n_estimators=4000; total time= 2.1min\n",
      "[CV] END model__colsample_bytree=0.3, model__learning_rate=0.0001, model__max_depth=6, model__n_estimators=4000; total time= 2.1min\n",
      "[CV] END model__colsample_bytree=0.3, model__learning_rate=0.0001, model__max_depth=6, model__n_estimators=4000; total time= 2.1min\n",
      "[CV] END model__colsample_bytree=0.3, model__learning_rate=0.0001, model__max_depth=6, model__n_estimators=4000; total time= 2.1min\n",
      "[CV] END model__colsample_bytree=0.3, model__learning_rate=0.0001, model__max_depth=6, model__n_estimators=4000; total time= 2.1min\n",
      "[CV] END model__colsample_bytree=0.3, model__learning_rate=0.0001, model__max_depth=6, model__n_estimators=4000; total time= 2.1min\n",
      "[CV] END model__colsample_bytree=0.3, model__learning_rate=0.0001, model__max_depth=6, model__n_estimators=4000; total time= 2.1min\n",
      "[CV] END model__colsample_bytree=0.3, model__learning_rate=0.0001, model__max_depth=6, model__n_estimators=4000; total time= 2.1min\n",
      "[CV] END model__colsample_bytree=0.4, model__learning_rate=0.0001, model__max_depth=2, model__n_estimators=4000; total time=  13.7s\n",
      "[CV] END model__colsample_bytree=0.4, model__learning_rate=0.0001, model__max_depth=2, model__n_estimators=4000; total time=  13.6s\n",
      "[CV] END model__colsample_bytree=0.4, model__learning_rate=0.0001, model__max_depth=2, model__n_estimators=4000; total time=  13.6s\n",
      "[CV] END model__colsample_bytree=0.4, model__learning_rate=0.0001, model__max_depth=2, model__n_estimators=4000; total time=  13.5s\n",
      "[CV] END model__colsample_bytree=0.4, model__learning_rate=0.0001, model__max_depth=2, model__n_estimators=4000; total time=  13.4s\n",
      "[CV] END model__colsample_bytree=0.4, model__learning_rate=0.0001, model__max_depth=2, model__n_estimators=4000; total time=  13.3s\n",
      "[CV] END model__colsample_bytree=0.4, model__learning_rate=0.0001, model__max_depth=2, model__n_estimators=4000; total time=  13.4s\n",
      "[CV] END model__colsample_bytree=0.4, model__learning_rate=0.0001, model__max_depth=2, model__n_estimators=4000; total time=  13.4s\n",
      "[CV] END model__colsample_bytree=0.4, model__learning_rate=0.0001, model__max_depth=2, model__n_estimators=4000; total time=  13.3s\n",
      "[CV] END model__colsample_bytree=0.4, model__learning_rate=0.0001, model__max_depth=2, model__n_estimators=4000; total time=  13.3s\n",
      "[CV] END model__colsample_bytree=0.4, model__learning_rate=0.0001, model__max_depth=3, model__n_estimators=4000; total time=  25.9s\n",
      "[CV] END model__colsample_bytree=0.4, model__learning_rate=0.0001, model__max_depth=3, model__n_estimators=4000; total time=  25.5s\n",
      "[CV] END model__colsample_bytree=0.4, model__learning_rate=0.0001, model__max_depth=3, model__n_estimators=4000; total time=  25.4s\n",
      "[CV] END model__colsample_bytree=0.4, model__learning_rate=0.0001, model__max_depth=3, model__n_estimators=4000; total time=  26.0s\n",
      "[CV] END model__colsample_bytree=0.4, model__learning_rate=0.0001, model__max_depth=3, model__n_estimators=4000; total time=  25.9s\n",
      "[CV] END model__colsample_bytree=0.4, model__learning_rate=0.0001, model__max_depth=3, model__n_estimators=4000; total time=  26.1s\n",
      "[CV] END model__colsample_bytree=0.4, model__learning_rate=0.0001, model__max_depth=3, model__n_estimators=4000; total time=  25.9s\n",
      "[CV] END model__colsample_bytree=0.4, model__learning_rate=0.0001, model__max_depth=3, model__n_estimators=4000; total time=  25.6s\n",
      "[CV] END model__colsample_bytree=0.4, model__learning_rate=0.0001, model__max_depth=3, model__n_estimators=4000; total time=  26.2s\n",
      "[CV] END model__colsample_bytree=0.4, model__learning_rate=0.0001, model__max_depth=3, model__n_estimators=4000; total time=  25.9s\n",
      "[CV] END model__colsample_bytree=0.4, model__learning_rate=0.0001, model__max_depth=4, model__n_estimators=4000; total time=  47.1s\n",
      "[CV] END model__colsample_bytree=0.4, model__learning_rate=0.0001, model__max_depth=4, model__n_estimators=4000; total time=  47.6s\n",
      "[CV] END model__colsample_bytree=0.4, model__learning_rate=0.0001, model__max_depth=4, model__n_estimators=4000; total time=  47.6s\n",
      "[CV] END model__colsample_bytree=0.4, model__learning_rate=0.0001, model__max_depth=4, model__n_estimators=4000; total time=  48.0s\n",
      "[CV] END model__colsample_bytree=0.4, model__learning_rate=0.0001, model__max_depth=4, model__n_estimators=4000; total time=  47.8s\n",
      "[CV] END model__colsample_bytree=0.4, model__learning_rate=0.0001, model__max_depth=4, model__n_estimators=4000; total time=  47.5s\n",
      "[CV] END model__colsample_bytree=0.4, model__learning_rate=0.0001, model__max_depth=4, model__n_estimators=4000; total time=  47.1s\n",
      "[CV] END model__colsample_bytree=0.4, model__learning_rate=0.0001, model__max_depth=4, model__n_estimators=4000; total time=  47.4s\n",
      "[CV] END model__colsample_bytree=0.4, model__learning_rate=0.0001, model__max_depth=4, model__n_estimators=4000; total time=  48.1s\n",
      "[CV] END model__colsample_bytree=0.4, model__learning_rate=0.0001, model__max_depth=4, model__n_estimators=4000; total time=  47.2s\n",
      "[CV] END model__colsample_bytree=0.4, model__learning_rate=0.0001, model__max_depth=5, model__n_estimators=4000; total time= 1.4min\n",
      "[CV] END model__colsample_bytree=0.4, model__learning_rate=0.0001, model__max_depth=5, model__n_estimators=4000; total time= 1.4min\n",
      "[CV] END model__colsample_bytree=0.4, model__learning_rate=0.0001, model__max_depth=5, model__n_estimators=4000; total time= 1.4min\n",
      "[CV] END model__colsample_bytree=0.4, model__learning_rate=0.0001, model__max_depth=5, model__n_estimators=4000; total time= 1.4min\n",
      "[CV] END model__colsample_bytree=0.4, model__learning_rate=0.0001, model__max_depth=5, model__n_estimators=4000; total time= 1.5min\n",
      "[CV] END model__colsample_bytree=0.4, model__learning_rate=0.0001, model__max_depth=5, model__n_estimators=4000; total time= 1.4min\n",
      "[CV] END model__colsample_bytree=0.4, model__learning_rate=0.0001, model__max_depth=5, model__n_estimators=4000; total time= 1.4min\n",
      "[CV] END model__colsample_bytree=0.4, model__learning_rate=0.0001, model__max_depth=5, model__n_estimators=4000; total time= 1.5min\n",
      "[CV] END model__colsample_bytree=0.4, model__learning_rate=0.0001, model__max_depth=5, model__n_estimators=4000; total time= 1.4min\n",
      "[CV] END model__colsample_bytree=0.4, model__learning_rate=0.0001, model__max_depth=5, model__n_estimators=4000; total time= 1.5min\n",
      "[CV] END model__colsample_bytree=0.4, model__learning_rate=0.0001, model__max_depth=6, model__n_estimators=4000; total time= 2.4min\n",
      "[CV] END model__colsample_bytree=0.4, model__learning_rate=0.0001, model__max_depth=6, model__n_estimators=4000; total time= 2.4min\n",
      "[CV] END model__colsample_bytree=0.4, model__learning_rate=0.0001, model__max_depth=6, model__n_estimators=4000; total time= 2.5min\n",
      "[CV] END model__colsample_bytree=0.4, model__learning_rate=0.0001, model__max_depth=6, model__n_estimators=4000; total time= 2.5min\n",
      "[CV] END model__colsample_bytree=0.4, model__learning_rate=0.0001, model__max_depth=6, model__n_estimators=4000; total time= 2.4min\n",
      "[CV] END model__colsample_bytree=0.4, model__learning_rate=0.0001, model__max_depth=6, model__n_estimators=4000; total time= 2.5min\n",
      "[CV] END model__colsample_bytree=0.4, model__learning_rate=0.0001, model__max_depth=6, model__n_estimators=4000; total time= 2.5min\n",
      "[CV] END model__colsample_bytree=0.4, model__learning_rate=0.0001, model__max_depth=6, model__n_estimators=4000; total time= 2.5min\n",
      "[CV] END model__colsample_bytree=0.4, model__learning_rate=0.0001, model__max_depth=6, model__n_estimators=4000; total time= 2.5min\n",
      "[CV] END model__colsample_bytree=0.5, model__learning_rate=0.0001, model__max_depth=2, model__n_estimators=4000; total time=  15.2s\n",
      "[CV] END model__colsample_bytree=0.5, model__learning_rate=0.0001, model__max_depth=2, model__n_estimators=4000; total time=  15.0s\n",
      "[CV] END model__colsample_bytree=0.4, model__learning_rate=0.0001, model__max_depth=6, model__n_estimators=4000; total time= 2.5min\n",
      "[CV] END model__colsample_bytree=0.5, model__learning_rate=0.0001, model__max_depth=2, model__n_estimators=4000; total time=  15.2s\n",
      "[CV] END model__colsample_bytree=0.5, model__learning_rate=0.0001, model__max_depth=2, model__n_estimators=4000; total time=  15.2s\n",
      "[CV] END model__colsample_bytree=0.5, model__learning_rate=0.0001, model__max_depth=2, model__n_estimators=4000; total time=  15.0s\n",
      "[CV] END model__colsample_bytree=0.5, model__learning_rate=0.0001, model__max_depth=2, model__n_estimators=4000; total time=  15.2s\n",
      "[CV] END model__colsample_bytree=0.5, model__learning_rate=0.0001, model__max_depth=2, model__n_estimators=4000; total time=  14.8s\n",
      "[CV] END model__colsample_bytree=0.5, model__learning_rate=0.0001, model__max_depth=2, model__n_estimators=4000; total time=  15.0s\n",
      "[CV] END model__colsample_bytree=0.5, model__learning_rate=0.0001, model__max_depth=2, model__n_estimators=4000; total time=  14.8s\n",
      "[CV] END model__colsample_bytree=0.5, model__learning_rate=0.0001, model__max_depth=2, model__n_estimators=4000; total time=  14.8s\n",
      "[CV] END model__colsample_bytree=0.5, model__learning_rate=0.0001, model__max_depth=3, model__n_estimators=4000; total time=  28.8s\n",
      "[CV] END model__colsample_bytree=0.5, model__learning_rate=0.0001, model__max_depth=3, model__n_estimators=4000; total time=  29.2s\n",
      "[CV] END model__colsample_bytree=0.5, model__learning_rate=0.0001, model__max_depth=3, model__n_estimators=4000; total time=  28.8s\n",
      "[CV] END model__colsample_bytree=0.5, model__learning_rate=0.0001, model__max_depth=3, model__n_estimators=4000; total time=  29.2s\n",
      "[CV] END model__colsample_bytree=0.5, model__learning_rate=0.0001, model__max_depth=3, model__n_estimators=4000; total time=  29.4s\n",
      "[CV] END model__colsample_bytree=0.5, model__learning_rate=0.0001, model__max_depth=3, model__n_estimators=4000; total time=  29.6s\n",
      "[CV] END model__colsample_bytree=0.5, model__learning_rate=0.0001, model__max_depth=3, model__n_estimators=4000; total time=  29.4s\n",
      "[CV] END model__colsample_bytree=0.5, model__learning_rate=0.0001, model__max_depth=3, model__n_estimators=4000; total time=  28.7s\n",
      "[CV] END model__colsample_bytree=0.5, model__learning_rate=0.0001, model__max_depth=3, model__n_estimators=4000; total time=  30.0s\n",
      "[CV] END model__colsample_bytree=0.5, model__learning_rate=0.0001, model__max_depth=3, model__n_estimators=4000; total time=  29.4s\n",
      "[CV] END model__colsample_bytree=0.5, model__learning_rate=0.0001, model__max_depth=4, model__n_estimators=4000; total time=  54.3s\n",
      "[CV] END model__colsample_bytree=0.5, model__learning_rate=0.0001, model__max_depth=4, model__n_estimators=4000; total time=  54.2s\n",
      "[CV] END model__colsample_bytree=0.5, model__learning_rate=0.0001, model__max_depth=4, model__n_estimators=4000; total time=  54.0s\n",
      "[CV] END model__colsample_bytree=0.5, model__learning_rate=0.0001, model__max_depth=4, model__n_estimators=4000; total time=  54.6s\n",
      "[CV] END model__colsample_bytree=0.5, model__learning_rate=0.0001, model__max_depth=4, model__n_estimators=4000; total time=  55.1s\n",
      "[CV] END model__colsample_bytree=0.5, model__learning_rate=0.0001, model__max_depth=4, model__n_estimators=4000; total time=  55.2s\n",
      "[CV] END model__colsample_bytree=0.5, model__learning_rate=0.0001, model__max_depth=4, model__n_estimators=4000; total time=  55.1s\n",
      "[CV] END model__colsample_bytree=0.5, model__learning_rate=0.0001, model__max_depth=4, model__n_estimators=4000; total time=  54.2s\n",
      "[CV] END model__colsample_bytree=0.5, model__learning_rate=0.0001, model__max_depth=4, model__n_estimators=4000; total time=  55.6s\n",
      "[CV] END model__colsample_bytree=0.5, model__learning_rate=0.0001, model__max_depth=4, model__n_estimators=4000; total time=  54.7s\n",
      "[CV] END model__colsample_bytree=0.5, model__learning_rate=0.0001, model__max_depth=5, model__n_estimators=4000; total time= 1.6min\n",
      "[CV] END model__colsample_bytree=0.5, model__learning_rate=0.0001, model__max_depth=5, model__n_estimators=4000; total time= 1.6min\n",
      "[CV] END model__colsample_bytree=0.5, model__learning_rate=0.0001, model__max_depth=5, model__n_estimators=4000; total time= 1.6min\n",
      "[CV] END model__colsample_bytree=0.5, model__learning_rate=0.0001, model__max_depth=5, model__n_estimators=4000; total time= 1.6min\n",
      "[CV] END model__colsample_bytree=0.5, model__learning_rate=0.0001, model__max_depth=5, model__n_estimators=4000; total time= 1.6min\n",
      "[CV] END model__colsample_bytree=0.5, model__learning_rate=0.0001, model__max_depth=5, model__n_estimators=4000; total time= 1.6min\n",
      "[CV] END model__colsample_bytree=0.5, model__learning_rate=0.0001, model__max_depth=5, model__n_estimators=4000; total time= 1.6min\n",
      "[CV] END model__colsample_bytree=0.5, model__learning_rate=0.0001, model__max_depth=5, model__n_estimators=4000; total time= 1.6min\n",
      "[CV] END model__colsample_bytree=0.5, model__learning_rate=0.0001, model__max_depth=5, model__n_estimators=4000; total time= 1.7min\n",
      "[CV] END model__colsample_bytree=0.5, model__learning_rate=0.0001, model__max_depth=5, model__n_estimators=4000; total time= 1.6min\n",
      "[CV] END model__colsample_bytree=0.5, model__learning_rate=0.0001, model__max_depth=6, model__n_estimators=4000; total time= 2.8min\n",
      "[CV] END model__colsample_bytree=0.5, model__learning_rate=0.0001, model__max_depth=6, model__n_estimators=4000; total time= 2.8min\n",
      "[CV] END model__colsample_bytree=0.5, model__learning_rate=0.0001, model__max_depth=6, model__n_estimators=4000; total time= 2.9min\n",
      "[CV] END model__colsample_bytree=0.5, model__learning_rate=0.0001, model__max_depth=6, model__n_estimators=4000; total time= 2.9min\n",
      "[CV] END model__colsample_bytree=0.5, model__learning_rate=0.0001, model__max_depth=6, model__n_estimators=4000; total time= 2.8min\n",
      "[CV] END model__colsample_bytree=0.5, model__learning_rate=0.0001, model__max_depth=6, model__n_estimators=4000; total time= 2.9min\n",
      "[CV] END model__colsample_bytree=0.5, model__learning_rate=0.0001, model__max_depth=6, model__n_estimators=4000; total time= 2.9min\n",
      "[CV] END model__colsample_bytree=0.5, model__learning_rate=0.0001, model__max_depth=6, model__n_estimators=4000; total time= 2.9min\n",
      "[CV] END model__colsample_bytree=0.5, model__learning_rate=0.0001, model__max_depth=6, model__n_estimators=4000; total time= 2.9min\n",
      "[CV] END model__colsample_bytree=0.6, model__learning_rate=0.0001, model__max_depth=2, model__n_estimators=4000; total time=  17.4s\n",
      "[CV] END model__colsample_bytree=0.6, model__learning_rate=0.0001, model__max_depth=2, model__n_estimators=4000; total time=  17.5s\n",
      "[CV] END model__colsample_bytree=0.5, model__learning_rate=0.0001, model__max_depth=6, model__n_estimators=4000; total time= 2.9min\n",
      "[CV] END model__colsample_bytree=0.6, model__learning_rate=0.0001, model__max_depth=2, model__n_estimators=4000; total time=  17.6s\n",
      "[CV] END model__colsample_bytree=0.6, model__learning_rate=0.0001, model__max_depth=2, model__n_estimators=4000; total time=  17.6s\n",
      "[CV] END model__colsample_bytree=0.6, model__learning_rate=0.0001, model__max_depth=2, model__n_estimators=4000; total time=  17.6s\n",
      "[CV] END model__colsample_bytree=0.6, model__learning_rate=0.0001, model__max_depth=2, model__n_estimators=4000; total time=  17.6s\n",
      "[CV] END model__colsample_bytree=0.6, model__learning_rate=0.0001, model__max_depth=2, model__n_estimators=4000; total time=  17.5s\n",
      "[CV] END model__colsample_bytree=0.6, model__learning_rate=0.0001, model__max_depth=2, model__n_estimators=4000; total time=  17.4s\n",
      "[CV] END model__colsample_bytree=0.6, model__learning_rate=0.0001, model__max_depth=2, model__n_estimators=4000; total time=  17.3s\n",
      "[CV] END model__colsample_bytree=0.6, model__learning_rate=0.0001, model__max_depth=2, model__n_estimators=4000; total time=  17.2s\n",
      "[CV] END model__colsample_bytree=0.6, model__learning_rate=0.0001, model__max_depth=3, model__n_estimators=4000; total time=  33.2s\n",
      "[CV] END model__colsample_bytree=0.6, model__learning_rate=0.0001, model__max_depth=3, model__n_estimators=4000; total time=  32.9s\n",
      "[CV] END model__colsample_bytree=0.6, model__learning_rate=0.0001, model__max_depth=3, model__n_estimators=4000; total time=  32.7s\n",
      "[CV] END model__colsample_bytree=0.6, model__learning_rate=0.0001, model__max_depth=3, model__n_estimators=4000; total time=  33.5s\n",
      "[CV] END model__colsample_bytree=0.6, model__learning_rate=0.0001, model__max_depth=3, model__n_estimators=4000; total time=  33.1s\n",
      "[CV] END model__colsample_bytree=0.6, model__learning_rate=0.0001, model__max_depth=3, model__n_estimators=4000; total time=  32.9s\n",
      "[CV] END model__colsample_bytree=0.6, model__learning_rate=0.0001, model__max_depth=3, model__n_estimators=4000; total time=  32.8s\n",
      "[CV] END model__colsample_bytree=0.6, model__learning_rate=0.0001, model__max_depth=3, model__n_estimators=4000; total time=  32.6s\n",
      "[CV] END model__colsample_bytree=0.6, model__learning_rate=0.0001, model__max_depth=3, model__n_estimators=4000; total time=  33.1s\n",
      "[CV] END model__colsample_bytree=0.6, model__learning_rate=0.0001, model__max_depth=3, model__n_estimators=4000; total time=  32.8s\n",
      "[CV] END model__colsample_bytree=0.6, model__learning_rate=0.0001, model__max_depth=4, model__n_estimators=4000; total time= 1.0min\n",
      "[CV] END model__colsample_bytree=0.6, model__learning_rate=0.0001, model__max_depth=4, model__n_estimators=4000; total time= 1.0min\n",
      "[CV] END model__colsample_bytree=0.6, model__learning_rate=0.0001, model__max_depth=4, model__n_estimators=4000; total time= 1.0min\n",
      "[CV] END model__colsample_bytree=0.6, model__learning_rate=0.0001, model__max_depth=4, model__n_estimators=4000; total time= 1.0min\n",
      "[CV] END model__colsample_bytree=0.6, model__learning_rate=0.0001, model__max_depth=4, model__n_estimators=4000; total time= 1.0min\n",
      "[CV] END model__colsample_bytree=0.6, model__learning_rate=0.0001, model__max_depth=4, model__n_estimators=4000; total time= 1.0min\n",
      "[CV] END model__colsample_bytree=0.6, model__learning_rate=0.0001, model__max_depth=4, model__n_estimators=4000; total time= 1.0min\n",
      "[CV] END model__colsample_bytree=0.6, model__learning_rate=0.0001, model__max_depth=4, model__n_estimators=4000; total time= 1.0min\n",
      "[CV] END model__colsample_bytree=0.6, model__learning_rate=0.0001, model__max_depth=4, model__n_estimators=4000; total time= 1.0min\n",
      "[CV] END model__colsample_bytree=0.6, model__learning_rate=0.0001, model__max_depth=4, model__n_estimators=4000; total time= 1.0min\n",
      "[CV] END model__colsample_bytree=0.6, model__learning_rate=0.0001, model__max_depth=5, model__n_estimators=4000; total time= 1.9min\n",
      "[CV] END model__colsample_bytree=0.6, model__learning_rate=0.0001, model__max_depth=5, model__n_estimators=4000; total time= 1.8min\n",
      "[CV] END model__colsample_bytree=0.6, model__learning_rate=0.0001, model__max_depth=5, model__n_estimators=4000; total time= 1.8min\n",
      "[CV] END model__colsample_bytree=0.6, model__learning_rate=0.0001, model__max_depth=5, model__n_estimators=4000; total time= 1.8min\n",
      "[CV] END model__colsample_bytree=0.6, model__learning_rate=0.0001, model__max_depth=5, model__n_estimators=4000; total time= 1.8min\n",
      "[CV] END model__colsample_bytree=0.6, model__learning_rate=0.0001, model__max_depth=5, model__n_estimators=4000; total time= 1.9min\n",
      "[CV] END model__colsample_bytree=0.6, model__learning_rate=0.0001, model__max_depth=5, model__n_estimators=4000; total time= 1.8min\n",
      "[CV] END model__colsample_bytree=0.6, model__learning_rate=0.0001, model__max_depth=5, model__n_estimators=4000; total time= 1.9min\n",
      "[CV] END model__colsample_bytree=0.6, model__learning_rate=0.0001, model__max_depth=5, model__n_estimators=4000; total time= 1.9min\n",
      "[CV] END model__colsample_bytree=0.6, model__learning_rate=0.0001, model__max_depth=5, model__n_estimators=4000; total time= 1.9min\n",
      "[CV] END model__colsample_bytree=0.6, model__learning_rate=0.0001, model__max_depth=6, model__n_estimators=4000; total time= 3.2min\n",
      "[CV] END model__colsample_bytree=0.6, model__learning_rate=0.0001, model__max_depth=6, model__n_estimators=4000; total time= 3.2min\n",
      "[CV] END model__colsample_bytree=0.6, model__learning_rate=0.0001, model__max_depth=6, model__n_estimators=4000; total time= 3.3min\n",
      "[CV] END model__colsample_bytree=0.6, model__learning_rate=0.0001, model__max_depth=6, model__n_estimators=4000; total time= 3.2min\n",
      "[CV] END model__colsample_bytree=0.6, model__learning_rate=0.0001, model__max_depth=6, model__n_estimators=4000; total time= 3.2min\n",
      "[CV] END model__colsample_bytree=0.6, model__learning_rate=0.0001, model__max_depth=6, model__n_estimators=4000; total time= 3.2min\n",
      "[CV] END model__colsample_bytree=0.7, model__learning_rate=0.0001, model__max_depth=2, model__n_estimators=4000; total time=  19.2s\n",
      "[CV] END model__colsample_bytree=0.6, model__learning_rate=0.0001, model__max_depth=6, model__n_estimators=4000; total time= 3.3min\n",
      "[CV] END model__colsample_bytree=0.6, model__learning_rate=0.0001, model__max_depth=6, model__n_estimators=4000; total time= 3.3min\n",
      "[CV] END model__colsample_bytree=0.7, model__learning_rate=0.0001, model__max_depth=2, model__n_estimators=4000; total time=  19.3s\n",
      "[CV] END model__colsample_bytree=0.6, model__learning_rate=0.0001, model__max_depth=6, model__n_estimators=4000; total time= 3.3min\n",
      "[CV] END model__colsample_bytree=0.6, model__learning_rate=0.0001, model__max_depth=6, model__n_estimators=4000; total time= 3.3min\n",
      "[CV] END model__colsample_bytree=0.7, model__learning_rate=0.0001, model__max_depth=2, model__n_estimators=4000; total time=  19.4s\n",
      "[CV] END model__colsample_bytree=0.7, model__learning_rate=0.0001, model__max_depth=2, model__n_estimators=4000; total time=  19.3s\n",
      "[CV] END model__colsample_bytree=0.7, model__learning_rate=0.0001, model__max_depth=2, model__n_estimators=4000; total time=  19.0s\n",
      "[CV] END model__colsample_bytree=0.7, model__learning_rate=0.0001, model__max_depth=2, model__n_estimators=4000; total time=  19.0s\n",
      "[CV] END model__colsample_bytree=0.7, model__learning_rate=0.0001, model__max_depth=2, model__n_estimators=4000; total time=  19.1s\n",
      "[CV] END model__colsample_bytree=0.7, model__learning_rate=0.0001, model__max_depth=2, model__n_estimators=4000; total time=  19.0s\n",
      "[CV] END model__colsample_bytree=0.7, model__learning_rate=0.0001, model__max_depth=2, model__n_estimators=4000; total time=  18.8s\n",
      "[CV] END model__colsample_bytree=0.7, model__learning_rate=0.0001, model__max_depth=2, model__n_estimators=4000; total time=  19.1s\n",
      "[CV] END model__colsample_bytree=0.7, model__learning_rate=0.0001, model__max_depth=3, model__n_estimators=4000; total time=  37.0s\n",
      "[CV] END model__colsample_bytree=0.7, model__learning_rate=0.0001, model__max_depth=3, model__n_estimators=4000; total time=  37.0s\n",
      "[CV] END model__colsample_bytree=0.7, model__learning_rate=0.0001, model__max_depth=3, model__n_estimators=4000; total time=  36.8s\n",
      "[CV] END model__colsample_bytree=0.7, model__learning_rate=0.0001, model__max_depth=3, model__n_estimators=4000; total time=  37.2s\n",
      "[CV] END model__colsample_bytree=0.7, model__learning_rate=0.0001, model__max_depth=3, model__n_estimators=4000; total time=  36.7s\n",
      "[CV] END model__colsample_bytree=0.7, model__learning_rate=0.0001, model__max_depth=3, model__n_estimators=4000; total time=  37.2s\n",
      "[CV] END model__colsample_bytree=0.7, model__learning_rate=0.0001, model__max_depth=3, model__n_estimators=4000; total time=  36.7s\n",
      "[CV] END model__colsample_bytree=0.7, model__learning_rate=0.0001, model__max_depth=3, model__n_estimators=4000; total time=  36.5s\n",
      "[CV] END model__colsample_bytree=0.7, model__learning_rate=0.0001, model__max_depth=3, model__n_estimators=4000; total time=  37.0s\n",
      "[CV] END model__colsample_bytree=0.7, model__learning_rate=0.0001, model__max_depth=3, model__n_estimators=4000; total time=  36.7s\n",
      "[CV] END model__colsample_bytree=0.7, model__learning_rate=0.0001, model__max_depth=4, model__n_estimators=4000; total time= 1.1min\n",
      "[CV] END model__colsample_bytree=0.7, model__learning_rate=0.0001, model__max_depth=4, model__n_estimators=4000; total time= 1.2min\n",
      "[CV] END model__colsample_bytree=0.7, model__learning_rate=0.0001, model__max_depth=4, model__n_estimators=4000; total time= 1.2min\n",
      "[CV] END model__colsample_bytree=0.7, model__learning_rate=0.0001, model__max_depth=4, model__n_estimators=4000; total time= 1.2min\n",
      "[CV] END model__colsample_bytree=0.7, model__learning_rate=0.0001, model__max_depth=4, model__n_estimators=4000; total time= 1.2min\n",
      "[CV] END model__colsample_bytree=0.7, model__learning_rate=0.0001, model__max_depth=4, model__n_estimators=4000; total time= 1.2min\n",
      "[CV] END model__colsample_bytree=0.7, model__learning_rate=0.0001, model__max_depth=4, model__n_estimators=4000; total time= 1.2min\n",
      "[CV] END model__colsample_bytree=0.7, model__learning_rate=0.0001, model__max_depth=4, model__n_estimators=4000; total time= 1.2min\n",
      "[CV] END model__colsample_bytree=0.7, model__learning_rate=0.0001, model__max_depth=4, model__n_estimators=4000; total time= 1.2min\n",
      "[CV] END model__colsample_bytree=0.7, model__learning_rate=0.0001, model__max_depth=4, model__n_estimators=4000; total time= 1.2min\n",
      "[CV] END model__colsample_bytree=0.7, model__learning_rate=0.0001, model__max_depth=5, model__n_estimators=4000; total time= 2.1min\n",
      "[CV] END model__colsample_bytree=0.7, model__learning_rate=0.0001, model__max_depth=5, model__n_estimators=4000; total time= 2.1min\n",
      "[CV] END model__colsample_bytree=0.7, model__learning_rate=0.0001, model__max_depth=5, model__n_estimators=4000; total time= 2.1min\n",
      "[CV] END model__colsample_bytree=0.7, model__learning_rate=0.0001, model__max_depth=5, model__n_estimators=4000; total time= 2.1min\n",
      "[CV] END model__colsample_bytree=0.7, model__learning_rate=0.0001, model__max_depth=5, model__n_estimators=4000; total time= 2.1min\n",
      "[CV] END model__colsample_bytree=0.7, model__learning_rate=0.0001, model__max_depth=5, model__n_estimators=4000; total time= 2.1min\n",
      "[CV] END model__colsample_bytree=0.7, model__learning_rate=0.0001, model__max_depth=5, model__n_estimators=4000; total time= 2.1min\n",
      "[CV] END model__colsample_bytree=0.7, model__learning_rate=0.0001, model__max_depth=5, model__n_estimators=4000; total time= 2.1min\n",
      "[CV] END model__colsample_bytree=0.7, model__learning_rate=0.0001, model__max_depth=5, model__n_estimators=4000; total time= 2.1min\n",
      "[CV] END model__colsample_bytree=0.7, model__learning_rate=0.0001, model__max_depth=5, model__n_estimators=4000; total time= 2.1min\n",
      "[CV] END model__colsample_bytree=0.7, model__learning_rate=0.0001, model__max_depth=6, model__n_estimators=4000; total time= 3.6min\n",
      "[CV] END model__colsample_bytree=0.7, model__learning_rate=0.0001, model__max_depth=6, model__n_estimators=4000; total time= 3.6min\n",
      "[CV] END model__colsample_bytree=0.7, model__learning_rate=0.0001, model__max_depth=6, model__n_estimators=4000; total time= 3.6min\n",
      "[CV] END model__colsample_bytree=0.7, model__learning_rate=0.0001, model__max_depth=6, model__n_estimators=4000; total time= 3.7min\n",
      "[CV] END model__colsample_bytree=0.7, model__learning_rate=0.0001, model__max_depth=6, model__n_estimators=4000; total time= 3.5min\n",
      "[CV] END model__colsample_bytree=0.7, model__learning_rate=0.0001, model__max_depth=6, model__n_estimators=4000; total time= 3.5min\n",
      "[CV] END model__colsample_bytree=0.7, model__learning_rate=0.0001, model__max_depth=6, model__n_estimators=4000; total time= 3.6min\n",
      "[CV] END model__colsample_bytree=0.7, model__learning_rate=0.0001, model__max_depth=6, model__n_estimators=4000; total time= 3.6min\n",
      "[CV] END model__colsample_bytree=0.7, model__learning_rate=0.0001, model__max_depth=6, model__n_estimators=4000; total time= 3.5min\n",
      "[CV] END model__colsample_bytree=0.7, model__learning_rate=0.0001, model__max_depth=6, model__n_estimators=4000; total time= 3.6min\n"
     ]
    }
   ],
   "source": [
    "grid = GridSearchCV(pipe, param_grid, cv=10, scoring='max_error', n_jobs=-1, verbose=2)\n",
    "grid.fit(X_train, y_train)\n",
    "best_params = grid.best_params_"
   ]
  },
  {
   "cell_type": "code",
   "execution_count": 21,
   "metadata": {},
   "outputs": [
    {
     "name": "stdout",
     "output_type": "stream",
     "text": [
      "{'model__colsample_bytree': 0.3, 'model__learning_rate': 0.0001, 'model__max_depth': 4, 'model__n_estimators': 4000}\n"
     ]
    }
   ],
   "source": [
    "print(best_params)"
   ]
  },
  {
   "cell_type": "code",
   "execution_count": 22,
   "metadata": {},
   "outputs": [
    {
     "data": {
      "text/html": [
       "<style>#sk-container-id-3 {color: black;}#sk-container-id-3 pre{padding: 0;}#sk-container-id-3 div.sk-toggleable {background-color: white;}#sk-container-id-3 label.sk-toggleable__label {cursor: pointer;display: block;width: 100%;margin-bottom: 0;padding: 0.3em;box-sizing: border-box;text-align: center;}#sk-container-id-3 label.sk-toggleable__label-arrow:before {content: \"▸\";float: left;margin-right: 0.25em;color: #696969;}#sk-container-id-3 label.sk-toggleable__label-arrow:hover:before {color: black;}#sk-container-id-3 div.sk-estimator:hover label.sk-toggleable__label-arrow:before {color: black;}#sk-container-id-3 div.sk-toggleable__content {max-height: 0;max-width: 0;overflow: hidden;text-align: left;background-color: #f0f8ff;}#sk-container-id-3 div.sk-toggleable__content pre {margin: 0.2em;color: black;border-radius: 0.25em;background-color: #f0f8ff;}#sk-container-id-3 input.sk-toggleable__control:checked~div.sk-toggleable__content {max-height: 200px;max-width: 100%;overflow: auto;}#sk-container-id-3 input.sk-toggleable__control:checked~label.sk-toggleable__label-arrow:before {content: \"▾\";}#sk-container-id-3 div.sk-estimator input.sk-toggleable__control:checked~label.sk-toggleable__label {background-color: #d4ebff;}#sk-container-id-3 div.sk-label input.sk-toggleable__control:checked~label.sk-toggleable__label {background-color: #d4ebff;}#sk-container-id-3 input.sk-hidden--visually {border: 0;clip: rect(1px 1px 1px 1px);clip: rect(1px, 1px, 1px, 1px);height: 1px;margin: -1px;overflow: hidden;padding: 0;position: absolute;width: 1px;}#sk-container-id-3 div.sk-estimator {font-family: monospace;background-color: #f0f8ff;border: 1px dotted black;border-radius: 0.25em;box-sizing: border-box;margin-bottom: 0.5em;}#sk-container-id-3 div.sk-estimator:hover {background-color: #d4ebff;}#sk-container-id-3 div.sk-parallel-item::after {content: \"\";width: 100%;border-bottom: 1px solid gray;flex-grow: 1;}#sk-container-id-3 div.sk-label:hover label.sk-toggleable__label {background-color: #d4ebff;}#sk-container-id-3 div.sk-serial::before {content: \"\";position: absolute;border-left: 1px solid gray;box-sizing: border-box;top: 0;bottom: 0;left: 50%;z-index: 0;}#sk-container-id-3 div.sk-serial {display: flex;flex-direction: column;align-items: center;background-color: white;padding-right: 0.2em;padding-left: 0.2em;position: relative;}#sk-container-id-3 div.sk-item {position: relative;z-index: 1;}#sk-container-id-3 div.sk-parallel {display: flex;align-items: stretch;justify-content: center;background-color: white;position: relative;}#sk-container-id-3 div.sk-item::before, #sk-container-id-3 div.sk-parallel-item::before {content: \"\";position: absolute;border-left: 1px solid gray;box-sizing: border-box;top: 0;bottom: 0;left: 50%;z-index: -1;}#sk-container-id-3 div.sk-parallel-item {display: flex;flex-direction: column;z-index: 1;position: relative;background-color: white;}#sk-container-id-3 div.sk-parallel-item:first-child::after {align-self: flex-end;width: 50%;}#sk-container-id-3 div.sk-parallel-item:last-child::after {align-self: flex-start;width: 50%;}#sk-container-id-3 div.sk-parallel-item:only-child::after {width: 0;}#sk-container-id-3 div.sk-dashed-wrapped {border: 1px dashed gray;margin: 0 0.4em 0.5em 0.4em;box-sizing: border-box;padding-bottom: 0.4em;background-color: white;}#sk-container-id-3 div.sk-label label {font-family: monospace;font-weight: bold;display: inline-block;line-height: 1.2em;}#sk-container-id-3 div.sk-label-container {text-align: center;}#sk-container-id-3 div.sk-container {/* jupyter's `normalize.less` sets `[hidden] { display: none; }` but bootstrap.min.css set `[hidden] { display: none !important; }` so we also need the `!important` here to be able to override the default hidden behavior on the sphinx rendered scikit-learn.org. See: https://github.com/scikit-learn/scikit-learn/issues/21755 */display: inline-block !important;position: relative;}#sk-container-id-3 div.sk-text-repr-fallback {display: none;}</style><div id=\"sk-container-id-3\" class=\"sk-top-container\"><div class=\"sk-text-repr-fallback\"><pre>Pipeline(steps=[(&#x27;scaler&#x27;, StandardScaler()),\n",
       "                (&#x27;xgb&#x27;,\n",
       "                 XGBRegressor(base_score=None, booster=None, callbacks=None,\n",
       "                              colsample_bylevel=None, colsample_bynode=None,\n",
       "                              colsample_bytree=0.3, device=None,\n",
       "                              early_stopping_rounds=None,\n",
       "                              enable_categorical=False, eval_metric=None,\n",
       "                              feature_types=None, gamma=None, grow_policy=None,\n",
       "                              importance_type=None,\n",
       "                              interaction_constraints=None,\n",
       "                              learning_rate=0.0001, max_bin=None,\n",
       "                              max_cat_threshold=None, max_cat_to_onehot=None,\n",
       "                              max_delta_step=None, max_depth=4, max_leaves=None,\n",
       "                              min_child_weight=None, missing=nan,\n",
       "                              monotone_constraints=None, multi_strategy=None,\n",
       "                              n_estimators=4000, n_jobs=None,\n",
       "                              num_parallel_tree=None, random_state=None, ...))])</pre><b>In a Jupyter environment, please rerun this cell to show the HTML representation or trust the notebook. <br />On GitHub, the HTML representation is unable to render, please try loading this page with nbviewer.org.</b></div><div class=\"sk-container\" hidden><div class=\"sk-item sk-dashed-wrapped\"><div class=\"sk-label-container\"><div class=\"sk-label sk-toggleable\"><input class=\"sk-toggleable__control sk-hidden--visually\" id=\"sk-estimator-id-3\" type=\"checkbox\" ><label for=\"sk-estimator-id-3\" class=\"sk-toggleable__label sk-toggleable__label-arrow\">Pipeline</label><div class=\"sk-toggleable__content\"><pre>Pipeline(steps=[(&#x27;scaler&#x27;, StandardScaler()),\n",
       "                (&#x27;xgb&#x27;,\n",
       "                 XGBRegressor(base_score=None, booster=None, callbacks=None,\n",
       "                              colsample_bylevel=None, colsample_bynode=None,\n",
       "                              colsample_bytree=0.3, device=None,\n",
       "                              early_stopping_rounds=None,\n",
       "                              enable_categorical=False, eval_metric=None,\n",
       "                              feature_types=None, gamma=None, grow_policy=None,\n",
       "                              importance_type=None,\n",
       "                              interaction_constraints=None,\n",
       "                              learning_rate=0.0001, max_bin=None,\n",
       "                              max_cat_threshold=None, max_cat_to_onehot=None,\n",
       "                              max_delta_step=None, max_depth=4, max_leaves=None,\n",
       "                              min_child_weight=None, missing=nan,\n",
       "                              monotone_constraints=None, multi_strategy=None,\n",
       "                              n_estimators=4000, n_jobs=None,\n",
       "                              num_parallel_tree=None, random_state=None, ...))])</pre></div></div></div><div class=\"sk-serial\"><div class=\"sk-item\"><div class=\"sk-estimator sk-toggleable\"><input class=\"sk-toggleable__control sk-hidden--visually\" id=\"sk-estimator-id-4\" type=\"checkbox\" ><label for=\"sk-estimator-id-4\" class=\"sk-toggleable__label sk-toggleable__label-arrow\">StandardScaler</label><div class=\"sk-toggleable__content\"><pre>StandardScaler()</pre></div></div></div><div class=\"sk-item\"><div class=\"sk-estimator sk-toggleable\"><input class=\"sk-toggleable__control sk-hidden--visually\" id=\"sk-estimator-id-5\" type=\"checkbox\" ><label for=\"sk-estimator-id-5\" class=\"sk-toggleable__label sk-toggleable__label-arrow\">XGBRegressor</label><div class=\"sk-toggleable__content\"><pre>XGBRegressor(base_score=None, booster=None, callbacks=None,\n",
       "             colsample_bylevel=None, colsample_bynode=None,\n",
       "             colsample_bytree=0.3, device=None, early_stopping_rounds=None,\n",
       "             enable_categorical=False, eval_metric=None, feature_types=None,\n",
       "             gamma=None, grow_policy=None, importance_type=None,\n",
       "             interaction_constraints=None, learning_rate=0.0001, max_bin=None,\n",
       "             max_cat_threshold=None, max_cat_to_onehot=None,\n",
       "             max_delta_step=None, max_depth=4, max_leaves=None,\n",
       "             min_child_weight=None, missing=nan, monotone_constraints=None,\n",
       "             multi_strategy=None, n_estimators=4000, n_jobs=None,\n",
       "             num_parallel_tree=None, random_state=None, ...)</pre></div></div></div></div></div></div></div>"
      ],
      "text/plain": [
       "Pipeline(steps=[('scaler', StandardScaler()),\n",
       "                ('xgb',\n",
       "                 XGBRegressor(base_score=None, booster=None, callbacks=None,\n",
       "                              colsample_bylevel=None, colsample_bynode=None,\n",
       "                              colsample_bytree=0.3, device=None,\n",
       "                              early_stopping_rounds=None,\n",
       "                              enable_categorical=False, eval_metric=None,\n",
       "                              feature_types=None, gamma=None, grow_policy=None,\n",
       "                              importance_type=None,\n",
       "                              interaction_constraints=None,\n",
       "                              learning_rate=0.0001, max_bin=None,\n",
       "                              max_cat_threshold=None, max_cat_to_onehot=None,\n",
       "                              max_delta_step=None, max_depth=4, max_leaves=None,\n",
       "                              min_child_weight=None, missing=nan,\n",
       "                              monotone_constraints=None, multi_strategy=None,\n",
       "                              n_estimators=4000, n_jobs=None,\n",
       "                              num_parallel_tree=None, random_state=None, ...))])"
      ]
     },
     "execution_count": 22,
     "metadata": {},
     "output_type": "execute_result"
    }
   ],
   "source": [
    "best_model = Pipeline([\n",
    "    ('scaler', StandardScaler()),\n",
    "    #('pca', PCA(n_components=best_params['pca__n_components'])),\n",
    "    ('xgb', xgb.XGBRegressor(**{k.split(\"__\")[1]: v for k, v in best_params.items() if \"model\" in k}))\n",
    "])\n",
    "\n",
    "best_model.fit(X_train, y_train)"
   ]
  },
  {
   "cell_type": "markdown",
   "metadata": {},
   "source": [
    "### Transform Dataset to DMatrix Format"
   ]
  },
  {
   "cell_type": "code",
   "execution_count": 23,
   "metadata": {},
   "outputs": [],
   "source": [
    "#dtrain_reg = xgb.DMatrix(X_train, y_train)"
   ]
  },
  {
   "cell_type": "markdown",
   "metadata": {},
   "source": [
    "### Train Model"
   ]
  },
  {
   "cell_type": "code",
   "execution_count": 24,
   "metadata": {},
   "outputs": [],
   "source": [
    "# params = {\"objective\": \"reg:squarederror\"}\n",
    "\n",
    "# n = 500\n",
    "# model = xgb.train(\n",
    "#    params=params,\n",
    "#    dtrain=dtrain_reg,\n",
    "#    num_boost_round=n,\n",
    "# )"
   ]
  },
  {
   "cell_type": "markdown",
   "metadata": {},
   "source": [
    "### Predict on Testset"
   ]
  },
  {
   "cell_type": "code",
   "execution_count": 25,
   "metadata": {},
   "outputs": [],
   "source": [
    "#X_test = xgb.DMatrix(X_test)\n",
    "predictions = best_model.predict(X_test)"
   ]
  },
  {
   "cell_type": "markdown",
   "metadata": {},
   "source": [
    "### Save Results"
   ]
  },
  {
   "cell_type": "code",
   "execution_count": 26,
   "metadata": {},
   "outputs": [],
   "source": [
    "# Save \n",
    "output_filename = f'bork_GYCAOB_XGBoost_R.csv'\n",
    "results_df = pd.DataFrame({'id': ids,'score': predictions})\n",
    "results_df.to_csv(output_filename, index=False)"
   ]
  }
 ],
 "metadata": {
  "kernelspec": {
   "display_name": "Python 3",
   "language": "python",
   "name": "python3"
  },
  "language_info": {
   "codemirror_mode": {
    "name": "ipython",
    "version": 3
   },
   "file_extension": ".py",
   "mimetype": "text/x-python",
   "name": "python",
   "nbconvert_exporter": "python",
   "pygments_lexer": "ipython3",
   "version": "3.11.5"
  }
 },
 "nbformat": 4,
 "nbformat_minor": 2
}
